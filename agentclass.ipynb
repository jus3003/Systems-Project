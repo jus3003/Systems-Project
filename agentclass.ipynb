{
 "cells": [
  {
   "cell_type": "code",
   "execution_count": 1,
   "metadata": {},
   "outputs": [],
   "source": [
    "import random\n",
    "\n",
    "class Agent:\n",
    "    def __init__(self, id, neighbourhood, transit, priorities):\n",
    "        #Variables that Initiates Change\n",
    "        self.id = id\n",
    "        self.neighbourhood = neighbourhood\n",
    "        self.transit = transit\n",
    "        self.satisfaction = 0 #no satisfaction when first moved in\n",
    "        #Fixed Variables\n",
    "        self.priorities = priorities #weighted list out of 1 [sustainability, speed, convenience, affordability]\n",
    "        #Past/Future Variables\n",
    "        self.transit_prev, self.transit_next, self.satisfaction_prev, self.satisfaction_next = 0, 0, 0, 0\n",
    "        self.commutes_tried_in_curr_neighbourhood = []\n"
   ]
  },
  {
   "cell_type": "code",
   "execution_count": 2,
   "metadata": {},
   "outputs": [],
   "source": [
    "#Randomize Priorities of Agents\n",
    "\n",
    "def priority_randomizer():\n",
    "    random_range = random.randint(1,10)\n",
    "    priorities = []\n",
    "    sum = 0\n",
    "    \n",
    "    for i in range(4):\n",
    "        num = random.randint(1,random_range)\n",
    "        priorities.append(num)\n",
    "        sum += num\n",
    "    for i in range(len(priorities)):\n",
    "        priorities[i] /= sum\n",
    "\n",
    "    #print(\"[sustainability, speed, convenience, affordability] = \", priorities)\n",
    "    return priorities #[sustainability, speed, convenience, affordability]\n",
    "\n",
    "#test = priority_randomizer()"
   ]
  },
  {
   "cell_type": "code",
   "execution_count": 7,
   "metadata": {},
   "outputs": [],
   "source": [
    "#Create Population of Agents\n",
    "def populate_Austin(population):\n",
    "    population_list = []\n",
    "    for i in range(0,population):\n",
    "        assign_neighbourhood = random.randint(1,3) \n",
    "        assign_transit = random.randint(1,4) #1/2/3/4 = drive/bus/bike/walk\n",
    "        assign_priorities = priority_randomizer()\n",
    "        population_list.append(Agent(id = i, neighbourhood = assign_neighbourhood, transit = assign_transit, priorities = assign_priorities))\n",
    "        #print(assign_neighbourhood, assign_priorities, assign_transit)\n",
    "\n",
    "    return population_list\n",
    "\n",
    "population = populate_Austin(20)"
   ]
  },
  {
   "cell_type": "code",
   "execution_count": null,
   "metadata": {},
   "outputs": [],
   "source": []
  },
  {
   "cell_type": "code",
   "execution_count": null,
   "metadata": {},
   "outputs": [],
   "source": []
  },
  {
   "cell_type": "code",
   "execution_count": null,
   "metadata": {},
   "outputs": [],
   "source": []
  },
  {
   "cell_type": "code",
   "execution_count": null,
   "metadata": {},
   "outputs": [],
   "source": []
  },
  {
   "cell_type": "code",
   "execution_count": null,
   "metadata": {},
   "outputs": [],
   "source": []
  }
 ],
 "metadata": {
  "kernelspec": {
   "display_name": "base",
   "language": "python",
   "name": "python3"
  },
  "language_info": {
   "codemirror_mode": {
    "name": "ipython",
    "version": 3
   },
   "file_extension": ".py",
   "mimetype": "text/x-python",
   "name": "python",
   "nbconvert_exporter": "python",
   "pygments_lexer": "ipython3",
   "version": "3.9.12"
  },
  "orig_nbformat": 4
 },
 "nbformat": 4,
 "nbformat_minor": 2
}
