{
 "cells": [
  {
   "cell_type": "code",
   "execution_count": null,
   "metadata": {},
   "outputs": [],
   "source": [
    "class Agent:\n",
    "    def __init__(self, neighbourhood, transit, priorities):\n",
    "        #Variables that Initiates Change\n",
    "        self.neighbourhood = neighbourhood\n",
    "        self.transit = transit\n",
    "        self.satisfaction = 0 #no satisfaction when first moved in\n",
    "        #Fixed Variables\n",
    "        self.priorities = priorities #weighted list out of 1 [sustainability, speed, convenience, affordability]\n",
    "        self.commutes_tried = [] #list of commutes already tried\n",
    "        \n",
    "\n",
    "\n",
    "\n"
   ]
  },
  {
   "cell_type": "code",
   "execution_count": null,
   "metadata": {},
   "outputs": [],
   "source": []
  },
  {
   "cell_type": "code",
   "execution_count": null,
   "metadata": {},
   "outputs": [],
   "source": []
  },
  {
   "cell_type": "code",
   "execution_count": null,
   "metadata": {},
   "outputs": [],
   "source": []
  },
  {
   "cell_type": "code",
   "execution_count": null,
   "metadata": {},
   "outputs": [],
   "source": []
  }
 ],
 "metadata": {
  "language_info": {
   "name": "python"
  },
  "orig_nbformat": 4
 },
 "nbformat": 4,
 "nbformat_minor": 2
}
