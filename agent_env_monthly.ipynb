{
 "cells": [
  {
   "cell_type": "code",
   "execution_count": 1,
   "metadata": {},
   "outputs": [],
   "source": [
    "import numpy as np\n",
    "\n",
    "def commute_update(neighbourhood, population):\n",
    "    \n",
    "    neighbourhood.monthly_utilization = [0, 0, 0, 0]\n",
    "    \n",
    "    # convenience updates on a monthly basis due to congestion\n",
    "    for agent in neighbourhood.resident_list:\n",
    "        \n",
    "        neighbourhood.monthly_utilization[agent.transit] += 1\n",
    "        \n",
    "    # track utilization to inform annual investments\n",
    "    neighbourhood.annual_utilization += neighbourhood.monthly_utilization\n",
    "\n",
    "    # congestion effects\n",
    "\n",
    "    # cars: all scores effected\n",
    "    car_ut = neighbourhood.monthly_utilization[0] / population\n",
    "    car_baseline = neighbourhood.baseline_scores[0]\n",
    "    car_weights = [0.25, 0.25, 0.2, 0.2]\n",
    "\n",
    "    neighbourhood.commutescores[0] = calculate_score(car_ut, car_baseline, car_weights)\n",
    "\n",
    "    # bus: mild impacts on convenience and speed\n",
    "    bus_ut = neighbourhood.monthly_utilization[1] / population\n",
    "    bus_baseline = neighbourhood.baseline_scores[1]\n",
    "    bus_weights = [0.15, 0.15, 0, 0]\n",
    "\n",
    "    neighbourhood.commutescores[1] = calculate_score(bus_ut, bus_baseline, bus_weights) \n",
    "\n",
    "    # bike: very mild impacts on convenience\n",
    "    bike_ut = neighbourhood.monthly_utilization[2] / population\n",
    "    bike_baseline =neighbourhood.baseline_scores[2]\n",
    "    bike_weights = [0.1, 0, 0, 0]\n",
    "    neighbourhood.commutescores[2] = calculate_score(bike_ut, bike_baseline, bike_weights)\n",
    "\n",
    "    # walk: very mild impacts on convenience\n",
    "    walk_ut = neighbourhood.monthly_utilization[3] / population\n",
    "    walk_baseline = neighbourhood.baseline_scores[3]\n",
    "    walk_weights = [0.05, 0, 0, 0]\n",
    "    neighbourhood.commutescores[3] = calculate_score(walk_ut, walk_baseline, walk_weights)\n",
    "\n",
    "def calculate_score(utilization, baseline, weights):\n",
    "\n",
    "    # exponential term for each element in the array\n",
    "    exp_term = np.exp(-weights * utilization)\n",
    "\n",
    "    # calculate the score for each element\n",
    "    scores = baseline + (10 - baseline) * exp_term\n",
    "\n",
    "    # clip the scores\n",
    "    scores = np.clip(scores, 0, 10)\n",
    "\n",
    "    return scores"
   ]
  },
  {
   "cell_type": "code",
   "execution_count": null,
   "metadata": {},
   "outputs": [],
   "source": []
  }
 ],
 "metadata": {
  "kernelspec": {
   "display_name": "base",
   "language": "python",
   "name": "python3"
  },
  "language_info": {
   "codemirror_mode": {
    "name": "ipython",
    "version": 3
   },
   "file_extension": ".py",
   "mimetype": "text/x-python",
   "name": "python",
   "nbconvert_exporter": "python",
   "pygments_lexer": "ipython3",
   "version": "3.9.7"
  }
 },
 "nbformat": 4,
 "nbformat_minor": 2
}
