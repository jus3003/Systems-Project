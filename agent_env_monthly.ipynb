{
 "cells": [
  {
   "cell_type": "code",
   "execution_count": null,
   "metadata": {},
   "outputs": [],
   "source": [
    "# use in main as:\n",
    "# for neighbourhood in neighbourhood_list:\n",
    "    # neighbourhood.commute_scores = agent_env_monthly.commute_update(neighbourhood)\n",
    "\n",
    "def commute_update(neighbourhood):\n",
    "    \n",
    "    neighbourhood.monthly_utilization = [0, 0, 0, 0]\n",
    "    \n",
    "    # convenience updates on a monthly basis due to congestion\n",
    "    for agent in neighbourhood.resident_list:\n",
    "        \n",
    "        neighbourhood.monthly_utilization[agent.transit] += 1\n",
    "        \n",
    "    # track utilization to inform annual investments\n",
    "    neighbourhood.annual_utilization += neighbourhood.monthly_utilization\n",
    "\n",
    "    # congestion effects\n",
    "\n",
    "    # cars: all scores effected\n",
    "    neighbourhood.commutescores[0] -= neighbourhood.monthly_utilization[0] * [0.05, 0.05, 0.03, 0.03]\n",
    "\n",
    "    # bus: mild impacts on convenience and speed\n",
    "    neighbourhood.commutescores[1] -= neighbourhood.monthly_utilization[1] * [0.02, 0.02, 0, 0]\n",
    "\n",
    "    # bike: very mild impacts on convenience\n",
    "    neighbourhood.commutescores[2] -= neighbourhood.monthly_utilization[2] * [0.01, 0, 0, 0]\n",
    "\n",
    "    # walk: very mild impacts on convenience\n",
    "    neighbourhood.commutescores[3] -= neighbourhood.monthly_utilization[3] * [0.01, 0, 0, 0]"
   ]
  }
 ],
 "metadata": {
  "language_info": {
   "name": "python"
  }
 },
 "nbformat": 4,
 "nbformat_minor": 2
}
