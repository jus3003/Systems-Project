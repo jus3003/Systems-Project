{
 "cells": [
  {
   "cell_type": "code",
   "execution_count": null,
   "metadata": {},
   "outputs": [],
   "source": [
    "x,y = 1,2\n",
    "print(x)\n",
    "print(y)"
   ]
  },
  {
   "cell_type": "code",
   "execution_count": 12,
   "metadata": {},
   "outputs": [],
   "source": [
    "class Neighbourhood:\n",
    "\n",
    "    def __init__(self, rent, commutescores, neighbourhood_id):\n",
    "\n",
    "        self.rent = rent\n",
    "        self.neighbourhood_id = neighbourhood_id\n",
    "\n",
    "        self.commutescores = commutescores\n",
    "\n",
    "        # this will later be used for identifying commute utilization\n",
    "\n",
    "        self.annual_utilization = [0, 0, 0, 0]\n",
    "\n",
    "\n",
    "    def define_residents(self, population):\n",
    "\n",
    "        # runs yearly to update populations\n",
    "        # pass in total population of Austin\n",
    "\n",
    "        self.resident_list = []\n",
    "\n",
    "        for agent in population:\n",
    "            if agent.neighbourhood == self.neighbourhood_id:\n",
    "                self.resident_list.append(agent)\n",
    "\n",
    "    def yearly_investment(self, city_priorities):\n",
    "\n",
    "        # convenience and speed update on a yearly basis due to investment\n",
    "        # city_priorities is an array for interest in investing in infrastructure for [cars, busses, bikes, pedestrians]\n",
    "        # subtract 0.1 to reflect deterioration\n",
    "\n",
    "        for i in range(4):\n",
    "            self.commutescores[i][0] = self.commutescores[i][0] + self.annual_utilization[i] * city_priorities[i] / 100 - 0.1\n",
    "            self.commutescores[i][1] = self.commutescores[i][1] + self.annual_utilization[i] * city_priorities[i] / 100 - 0.1\n",
    "        \n",
    "        self.annual_utilization = [0, 0, 0, 0]\n",
    "\n",
    "\n",
    "    def yearly_housing_update(self):\n",
    "\n",
    "        # first you will want to run this once in main\n",
    "        # for neighbourhood in all_neighbourhoods:\n",
    "        # neighbourhood.housing_supply = len(neighbourhood.resident_list)\n",
    "\n",
    "        # rent increases if demand > supply\n",
    "        self.rent = self.rent * (self.resident_list / self.housing_supply)\n",
    "\n",
    "        # for next year, housing will adjust slightly to accommodate demand\n",
    "        self.housing_supply += (self.resident_list - self.housing_supply) / 10\n"
   ]
  },
  {
   "cell_type": "code",
   "execution_count": 40,
   "metadata": {},
   "outputs": [],
   "source": [
    "def initiate_neighbourhoods(population):\n",
    "\n",
    "    # commute scores will be a nested list\n",
    "    # lists are for drive; bus; bike; walk\n",
    "    # list elements are convenience; speed; affordability; sustainability\n",
    "\n",
    "    west_scores = [[8, 9, 2, 3], [4, 4, 10, 8], [7, 9, 8, 9], [9, 6, 10, 10]]\n",
    "    north_scores = [[9, 9, 2, 3], [8, 8, 10, 8], [8, 9, 8, 9], [7, 5, 10, 10]]\n",
    "    riverside_scores = [[7, 7, 3, 2], [8, 3, 10, 8], [4, 3, 8, 9], [1, 1, 10, 10]]\n",
    "\n",
    "    west = Neighbourhood(2,west_scores, 0)\n",
    "\n",
    "    north = Neighbourhood(3,north_scores, 1)\n",
    "\n",
    "    riverside = Neighbourhood(4,riverside_scores, 2)\n",
    "\n",
    "    all_neighbourhoods = [west, north, riverside]\n",
    "\n",
    "    for neighbourhood in all_neighbourhoods:\n",
    "        neighbourhood.define_residents(population)\n",
    "        neighbourhood.housing_supply = len(neighbourhood.resident_list)\n",
    "        neighbourhood.baseline_scores = neighbourhood.commutescores\n",
    "        neighbourhood.score_tracker = []\n",
    "\n",
    "\n",
    "    return all_neighbourhoods"
   ]
  },
  {
   "cell_type": "code",
   "execution_count": 45,
   "metadata": {},
   "outputs": [
    {
     "name": "stdout",
     "output_type": "stream",
     "text": [
      "22\n",
      "27\n",
      "33\n",
      "35\n",
      "\n",
      "23\n",
      "33\n",
      "35\n",
      "33\n",
      "\n",
      "19\n",
      "28\n",
      "24\n",
      "22\n"
     ]
    }
   ],
   "source": [
    "west_scores = [[8, 9, 2, 3], [5, 4, 10, 8], [7, 9, 8, 9], [9, 6, 10, 10]]\n",
    "north_scores = [[9, 9, 2, 3], [7, 8, 10, 8], [9, 9, 8, 9], [8, 5, 10, 10]]\n",
    "riverside_scores = [[7, 7, 3, 2], [7, 3, 10, 8], [4, 3, 8, 9], [1, 1, 10, 10]]\n",
    "\n",
    "print(sum(west_scores[0]))\n",
    "print(sum(west_scores[1]))\n",
    "print(sum(west_scores[2]))\n",
    "print(sum(west_scores[3]))\n",
    "print('')\n",
    "print(sum(north_scores[0]))\n",
    "print(sum(north_scores[1]))\n",
    "print(sum(north_scores[2]))\n",
    "print(sum(north_scores[3]))\n",
    "print('')\n",
    "print(sum(riverside_scores[0]))\n",
    "print(sum(riverside_scores[1]))\n",
    "print(sum(riverside_scores[2]))\n",
    "print(sum(riverside_scores[3]))\n",
    "\n"
   ]
  },
  {
   "cell_type": "code",
   "execution_count": null,
   "metadata": {},
   "outputs": [],
   "source": []
  }
 ],
 "metadata": {
  "kernelspec": {
   "display_name": "base",
   "language": "python",
   "name": "python3"
  },
  "language_info": {
   "codemirror_mode": {
    "name": "ipython",
    "version": 3
   },
   "file_extension": ".py",
   "mimetype": "text/x-python",
   "name": "python",
   "nbconvert_exporter": "python",
   "pygments_lexer": "ipython3",
   "version": "3.9.12"
  }
 },
 "nbformat": 4,
 "nbformat_minor": 2
}
