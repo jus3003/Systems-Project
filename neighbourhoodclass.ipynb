{
 "cells": [
  {
   "cell_type": "code",
   "execution_count": 5,
   "metadata": {},
   "outputs": [],
   "source": [
    "class Neighbourhood:\n",
    "\n",
    "    def __init__(self, rent, commutescores, neighbourhood_id):\n",
    "\n",
    "        self.rent = rent\n",
    "        self.neighbourhood_id = neighbourhood_id\n",
    "\n",
    "        # commute scores will be a nested list\n",
    "        # lists are for drive; bus; bike; walk\n",
    "        # list elements are convenience; speed; affordability; sustainability\n",
    "\n",
    "        self.commutescores = commutescores\n",
    "\n",
    "        # this will later be used for identifying commute utilization\n",
    "\n",
    "        self.annual_utilization = [0, 0, 0, 0]\n",
    "\n",
    "\n",
    "    def define_residents(self, population):\n",
    "\n",
    "        # runs yearly to update populations\n",
    "        # pass in total population of Austin\n",
    "\n",
    "        self.resident_list = []\n",
    "\n",
    "        for agent in population:\n",
    "            if agent.neighbourhood == self.neighbourhood_id:\n",
    "                self.resident_list.append(agent)\n",
    "\n",
    "\n",
    "    def monthly_commuteupdate(self):\n",
    "        \n",
    "        self.monthly_utilization = [0, 0, 0, 0]\n",
    "        \n",
    "        # convenience updates on a monthly basis due to congestion\n",
    "        for agent in self.resident_list:\n",
    "            \n",
<<<<<<< HEAD
    "            self.monthly_utilization[agent.transit - 1] += 1\n",
=======
    "            self.monthly_utilization[agent.transit - 1] += 1  ################### I didn't quite understand this part - Justin \n",
>>>>>>> 46262f69b5aef3828702d0a0a5a00e8c9dfd19c1
    "            \n",
    "        # track utilization to inform annual investments\n",
    "        self.annual_utilization += self.monthly_utilization\n",
    "\n",
    "        # congestion effects\n",
    "\n",
    "        # cars: all scores effected\n",
    "        self.commutescores[0] -= self.monthly_utilization[0] * [0.05, 0.05, 0.03, 0.03]\n",
    "\n",
    "        # bus: mild impacts on convenience and speed\n",
    "        self.commutescores[1] -= self.monthly_utilization[1] * [0.02, 0.02, 0, 0]\n",
    "\n",
    "        # bike: very mild impacts on convenience\n",
    "        self.commutescores[2] -= self.monthly_utilization[2] * [0.01, 0, 0, 0]\n",
    "\n",
    "        # walk: very mild impacts on convenience\n",
    "        self.commutescores[3] -= self.monthly_utilization[3] * [0.01, 0, 0, 0]\n",
    "\n",
    "\n",
    "    def yearly_investment(self, city_priorities):\n",
    "\n",
    "        # convenience and speed update on a yearly basis due to investment\n",
    "        # city_priorities is an array for interest in investing in infrastructure for [cars, busses, bikes, pedestrians]\n",
    "        # subtract 0.1 to reflect deterioration\n",
    "\n",
    "        for i in range(4):\n",
    "            self.commutescores[i][0] = self.commutescores[i][0] + self.annual_utilization[i] * city_priorities[i] / 100 - 0.1\n",
    "            self.commutescores[i][1] = self.commutescores[i][1] + self.annual_utilization[i] * city_priorities[i] / 100 - 0.1\n",
    "        \n",
    "        self.annual_utilization = [0, 0, 0, 0]\n",
    "\n",
    "\n",
<<<<<<< HEAD
    "    def yearly_housing_update(self):\n",
=======
    "    def yearly_housing_update(self):             #############################   We should make a systems dynamics model with a separate function in main to model supply/demand in housing and affects - Justin \n",
>>>>>>> 46262f69b5aef3828702d0a0a5a00e8c9dfd19c1
    "\n",
    "        # first you will want to run this once in main\n",
    "        # for neighbourhood in all_neighbourhoods:\n",
    "        # neighbourhood.housing_supply = len(neighbourhood.resident_list)\n",
    "\n",
    "        # rent increases if demand > supply\n",
    "        self.rent = self.rent * (self.resident_list / self.housing_supply)\n",
    "\n",
    "        # for next year, housing will adjust slightly to accommodate demand\n",
    "        self.housing_supply += (self.resident_list - self.housing_supply) / 10\n"
   ]
  },
  {
   "cell_type": "code",
   "execution_count": 6,
   "metadata": {},
   "outputs": [],
   "source": []
  },
  {
   "cell_type": "code",
   "execution_count": null,
   "metadata": {},
   "outputs": [],
   "source": []
  }
 ],
 "metadata": {
  "kernelspec": {
   "display_name": "base",
   "language": "python",
   "name": "python3"
  },
  "language_info": {
   "codemirror_mode": {
    "name": "ipython",
    "version": 3
   },
   "file_extension": ".py",
   "mimetype": "text/x-python",
   "name": "python",
   "nbconvert_exporter": "python",
   "pygments_lexer": "ipython3",
   "version": "3.9.12"
  }
 },
 "nbformat": 4,
 "nbformat_minor": 2
}
